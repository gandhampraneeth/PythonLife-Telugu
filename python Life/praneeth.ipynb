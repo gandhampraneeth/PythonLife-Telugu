{
 "cells": [
  {
   "cell_type": "code",
   "execution_count": 4,
   "id": "e56cefad",
   "metadata": {},
   "outputs": [
    {
     "name": "stdout",
     "output_type": "stream",
     "text": [
      "wewdj\n"
     ]
    }
   ],
   "source": [
    "print(\"wewdj\")"
   ]
  },
  {
   "cell_type": "code",
   "execution_count": 5,
   "id": "679518ab",
   "metadata": {},
   "outputs": [
    {
     "name": "stdout",
     "output_type": "stream",
     "text": [
      "20\n"
     ]
    }
   ],
   "source": [
    "a=20\n",
    "print(a)"
   ]
  },
  {
   "cell_type": "code",
   "execution_count": 3,
   "id": "0178c482",
   "metadata": {},
   "outputs": [
    {
     "name": "stdout",
     "output_type": "stream",
     "text": [
      "20\n"
     ]
    }
   ],
   "source": [
    "print(a)"
   ]
  },
  {
   "cell_type": "code",
   "execution_count": 1,
   "id": "42cad0d6",
   "metadata": {},
   "outputs": [],
   "source": [
    "import numpy as np\n",
    "import pandas as pd"
   ]
  },
  {
   "cell_type": "code",
   "execution_count": 2,
   "id": "956e5767",
   "metadata": {},
   "outputs": [],
   "source": [
    "ds=pd.read_csv(r\"/Users/gandhampraneeth/TopRichestInWorld.csv\")"
   ]
  },
  {
   "cell_type": "code",
   "execution_count": 3,
   "id": "f04a960f",
   "metadata": {},
   "outputs": [
    {
     "data": {
      "text/html": [
       "<div>\n",
       "<style scoped>\n",
       "    .dataframe tbody tr th:only-of-type {\n",
       "        vertical-align: middle;\n",
       "    }\n",
       "\n",
       "    .dataframe tbody tr th {\n",
       "        vertical-align: top;\n",
       "    }\n",
       "\n",
       "    .dataframe thead th {\n",
       "        text-align: right;\n",
       "    }\n",
       "</style>\n",
       "<table border=\"1\" class=\"dataframe\">\n",
       "  <thead>\n",
       "    <tr style=\"text-align: right;\">\n",
       "      <th></th>\n",
       "      <th>Name</th>\n",
       "      <th>NetWorth</th>\n",
       "      <th>Age</th>\n",
       "      <th>Country/Territory</th>\n",
       "      <th>Source</th>\n",
       "      <th>Industry</th>\n",
       "    </tr>\n",
       "  </thead>\n",
       "  <tbody>\n",
       "    <tr>\n",
       "      <th>0</th>\n",
       "      <td>Elon Musk</td>\n",
       "      <td>$219,000,000,000</td>\n",
       "      <td>50</td>\n",
       "      <td>United States</td>\n",
       "      <td>Tesla, SpaceX</td>\n",
       "      <td>Automotive</td>\n",
       "    </tr>\n",
       "    <tr>\n",
       "      <th>1</th>\n",
       "      <td>Jeff Bezos</td>\n",
       "      <td>$171,000,000,000</td>\n",
       "      <td>58</td>\n",
       "      <td>United States</td>\n",
       "      <td>Amazon</td>\n",
       "      <td>Technology</td>\n",
       "    </tr>\n",
       "    <tr>\n",
       "      <th>2</th>\n",
       "      <td>Bernard Arnault &amp; family</td>\n",
       "      <td>$158,000,000,000</td>\n",
       "      <td>73</td>\n",
       "      <td>France</td>\n",
       "      <td>LVMH</td>\n",
       "      <td>Fashion &amp; Retail</td>\n",
       "    </tr>\n",
       "    <tr>\n",
       "      <th>3</th>\n",
       "      <td>Bill Gates</td>\n",
       "      <td>$129,000,000,000</td>\n",
       "      <td>66</td>\n",
       "      <td>United States</td>\n",
       "      <td>Microsoft</td>\n",
       "      <td>Technology</td>\n",
       "    </tr>\n",
       "    <tr>\n",
       "      <th>4</th>\n",
       "      <td>Warren Buffett</td>\n",
       "      <td>$118,000,000,000</td>\n",
       "      <td>91</td>\n",
       "      <td>United States</td>\n",
       "      <td>Berkshire Hathaway</td>\n",
       "      <td>Finance &amp; Investments</td>\n",
       "    </tr>\n",
       "    <tr>\n",
       "      <th>...</th>\n",
       "      <td>...</td>\n",
       "      <td>...</td>\n",
       "      <td>...</td>\n",
       "      <td>...</td>\n",
       "      <td>...</td>\n",
       "      <td>...</td>\n",
       "    </tr>\n",
       "    <tr>\n",
       "      <th>96</th>\n",
       "      <td>Vladimir Potanin</td>\n",
       "      <td>$17,300,000,000</td>\n",
       "      <td>61</td>\n",
       "      <td>Russia</td>\n",
       "      <td>metals</td>\n",
       "      <td>Metals &amp; Mining</td>\n",
       "    </tr>\n",
       "    <tr>\n",
       "      <th>97</th>\n",
       "      <td>Harold Hamm &amp; family</td>\n",
       "      <td>$17,200,000,000</td>\n",
       "      <td>76</td>\n",
       "      <td>United States</td>\n",
       "      <td>oil &amp; gas</td>\n",
       "      <td>Energy</td>\n",
       "    </tr>\n",
       "    <tr>\n",
       "      <th>98</th>\n",
       "      <td>Sun Piaoyang</td>\n",
       "      <td>$17,100,000,000</td>\n",
       "      <td>63</td>\n",
       "      <td>China</td>\n",
       "      <td>pharmaceuticals</td>\n",
       "      <td>Healthcare</td>\n",
       "    </tr>\n",
       "    <tr>\n",
       "      <th>99</th>\n",
       "      <td>Luo Liguo &amp; family</td>\n",
       "      <td>$17,000,000,000</td>\n",
       "      <td>66</td>\n",
       "      <td>China</td>\n",
       "      <td>chemicals</td>\n",
       "      <td>Manufacturing</td>\n",
       "    </tr>\n",
       "    <tr>\n",
       "      <th>100</th>\n",
       "      <td>Peter Woo</td>\n",
       "      <td>$17,000,000,000</td>\n",
       "      <td>75</td>\n",
       "      <td>Hong Kong</td>\n",
       "      <td>real estate</td>\n",
       "      <td>Real Estate</td>\n",
       "    </tr>\n",
       "  </tbody>\n",
       "</table>\n",
       "<p>101 rows × 6 columns</p>\n",
       "</div>"
      ],
      "text/plain": [
       "                         Name          NetWorth  Age Country/Territory  \\\n",
       "0                   Elon Musk  $219,000,000,000   50     United States   \n",
       "1                  Jeff Bezos  $171,000,000,000   58     United States   \n",
       "2    Bernard Arnault & family  $158,000,000,000   73            France   \n",
       "3                  Bill Gates  $129,000,000,000   66     United States   \n",
       "4              Warren Buffett  $118,000,000,000   91     United States   \n",
       "..                        ...               ...  ...               ...   \n",
       "96           Vladimir Potanin   $17,300,000,000   61            Russia   \n",
       "97       Harold Hamm & family   $17,200,000,000   76     United States   \n",
       "98               Sun Piaoyang   $17,100,000,000   63             China   \n",
       "99         Luo Liguo & family   $17,000,000,000   66             China   \n",
       "100                 Peter Woo   $17,000,000,000   75         Hong Kong   \n",
       "\n",
       "                 Source               Industry  \n",
       "0         Tesla, SpaceX             Automotive  \n",
       "1                Amazon             Technology  \n",
       "2                  LVMH       Fashion & Retail  \n",
       "3             Microsoft             Technology  \n",
       "4    Berkshire Hathaway  Finance & Investments  \n",
       "..                  ...                    ...  \n",
       "96               metals        Metals & Mining  \n",
       "97            oil & gas                 Energy  \n",
       "98      pharmaceuticals             Healthcare  \n",
       "99            chemicals          Manufacturing  \n",
       "100         real estate            Real Estate  \n",
       "\n",
       "[101 rows x 6 columns]"
      ]
     },
     "execution_count": 3,
     "metadata": {},
     "output_type": "execute_result"
    }
   ],
   "source": [
    "ds"
   ]
  },
  {
   "cell_type": "code",
   "execution_count": null,
   "id": "01496b86",
   "metadata": {},
   "outputs": [],
   "source": []
  }
 ],
 "metadata": {
  "kernelspec": {
   "display_name": "Python 3 (ipykernel)",
   "language": "python",
   "name": "python3"
  },
  "language_info": {
   "codemirror_mode": {
    "name": "ipython",
    "version": 3
   },
   "file_extension": ".py",
   "mimetype": "text/x-python",
   "name": "python",
   "nbconvert_exporter": "python",
   "pygments_lexer": "ipython3",
   "version": "3.11.5"
  }
 },
 "nbformat": 4,
 "nbformat_minor": 5
}
